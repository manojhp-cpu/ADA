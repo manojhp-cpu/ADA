{
 "cells": [
  {
   "cell_type": "code",
   "execution_count": 5,
   "id": "2ddfa61c",
   "metadata": {
    "scrolled": true
   },
   "outputs": [
    {
     "name": "stdout",
     "output_type": "stream",
     "text": [
      "Unsorted Array:[45, 20, 40, 5, 15]\n",
      "Sorted Array  :[5, 15, 20, 40, 45]\n"
     ]
    }
   ],
   "source": [
    "def selection_sort(a,n):\n",
    "    for i in range(0,n):\n",
    "        pos = i\n",
    "        for j in range(i + 1,n):\n",
    "            if a[j] < a[pos]:\n",
    "                pos = j\n",
    "        temp = a[pos]\n",
    "        a[pos] =a[i]\n",
    "        a[i] = temp\n",
    "    return a\n",
    "\n",
    "if __name__ == \"__main__\":\n",
    "    arr = [45,20,40,5,15]\n",
    "    n = len(arr)\n",
    "    print(f'Unsorted Array:{arr}')\n",
    "    sorted = selection_sort(arr,n)\n",
    "    print(f'Sorted Array  :{sorted}')\n",
    "    "
   ]
  },
  {
   "cell_type": "code",
   "execution_count": 30,
   "id": "48defe53",
   "metadata": {},
   "outputs": [
    {
     "name": "stdout",
     "output_type": "stream",
     "text": [
      "optimal solution is:37\n"
     ]
    }
   ],
   "source": [
    "def knap_sack_01(n,capacity,weights,profits):\n",
    "    dp = [[0 for _ in range(capacity + 1)]for _ in range(n + 1)]\n",
    "    \n",
    "    for i in range(n + 1):\n",
    "        for j in range(capacity + 1):\n",
    "            if(i == 0 or j == 0):\n",
    "                dp[i][j] = 0\n",
    "                \n",
    "            elif weights[i - 1] > j:\n",
    "                dp[i][j] = dp[i - 1][j]\n",
    "                \n",
    "            else:\n",
    "                dp[i][j] = max(dp[i - 1][j],dp[i-1][j-weights[i -1]] + profits[i - 1])\n",
    "    max_value = dp[n][capacity]\n",
    "    return max_value\n",
    "if __name__ == '__main__':\n",
    "    w = [2,1,3,2]\n",
    "    n = len(w)\n",
    "    c = 5\n",
    "    p = [12,10,20,15]\n",
    "    solution = knap_sack_01(n,c,w,p)\n",
    "    print(f'optimal solution is:{solution}')"
   ]
  },
  {
   "cell_type": "code",
   "execution_count": 35,
   "id": "b4b4c993",
   "metadata": {},
   "outputs": [
    {
     "name": "stdout",
     "output_type": "stream",
     "text": [
      "The fraction of the 1-th object selected is 1\n",
      "The fraction of the 2-th object selected is 0.8\n",
      "The fraction of the 3-th object selected is 0\n"
     ]
    }
   ],
   "source": [
    "def greedy_knapsack(capacity, weights, n):\n",
    "    fraction = [0]*n\n",
    "    for i in range(n):\n",
    "        if weights[i] <= capacity:\n",
    "            fraction[i] = 1\n",
    "            capacity -= weights[i]\n",
    "        else:\n",
    "            fraction[i] = capacity/weights[i]\n",
    "            break\n",
    "    return fraction\n",
    "\n",
    "capacity = 40\n",
    "weights = [20,25,10]\n",
    "n = len(weights)\n",
    "fraction = greedy_knapsack(capacity, weights, n)\n",
    "\n",
    "for i in range(n):\n",
    "    print(f\"The fraction of the {i+1}-th object selected is {fraction[i]}\")"
   ]
  },
  {
   "cell_type": "markdown",
   "id": "d4a2ca21",
   "metadata": {},
   "source": [
    "# BFS and DFS"
   ]
  },
  {
   "cell_type": "code",
   "execution_count": 3,
   "id": "d744fb29",
   "metadata": {},
   "outputs": [
    {
     "name": "stdout",
     "output_type": "stream",
     "text": [
      "[('A', 'B'), ('A', 'C'), ('B', 'D'), ('C', 'E'), ('C', 'F')]\n"
     ]
    }
   ],
   "source": [
    "def BFS(source,graph):\n",
    "    q = []\n",
    "    visited = {}\n",
    "    tree_edges = []\n",
    "    q.append(source)\n",
    "    visited[source] = True\n",
    "    \n",
    "    while q:\n",
    "        u = q.pop(0)\n",
    "        for v in graph[u]:\n",
    "            if v not in visited:\n",
    "                visited[v] = True\n",
    "                \n",
    "                tree_edges.append((u,v))\n",
    "                q.append(v)\n",
    "    return tree_edges\n",
    "\n",
    "if __name__ == '__main__':\n",
    "    g = {\n",
    "        'A' : ['B','C'],\n",
    "        'B' : ['D'],\n",
    "        'C' : ['E','F'],\n",
    "        'D' : [],\n",
    "        'E' : [],\n",
    "        'F' : []\n",
    "    }\n",
    "    s = 'A'\n",
    "    result = BFS(s,g)\n",
    "    print(result)\n",
    "    "
   ]
  },
  {
   "cell_type": "code",
   "execution_count": 4,
   "id": "b953173d",
   "metadata": {},
   "outputs": [
    {
     "name": "stdout",
     "output_type": "stream",
     "text": [
      "A B D C E F "
     ]
    }
   ],
   "source": [
    "def dfs(graph, node, visited):\n",
    "    if node not in visited:\n",
    "        print(node, end=' ')\n",
    "        visited.add(node)\n",
    "        for neighbor in graph[node]:\n",
    "            dfs(graph, neighbor, visited)\n",
    "\n",
    "# Define the graph as a dictionary\n",
    "g = {\n",
    "    'A': ['B', 'C'],\n",
    "    'B': ['D'],\n",
    "    'C': ['E', 'F'],\n",
    "    'D': [],\n",
    "    'E': [],\n",
    "    'F': []\n",
    "}\n",
    "\n",
    "# Initialize the set to keep track of visited nodes\n",
    "visited = set()\n",
    "\n",
    "# Call the DFS function starting from node 'A'\n",
    "dfs(g, 'A', visited)\n"
   ]
  },
  {
   "cell_type": "markdown",
   "id": "8f260e54",
   "metadata": {},
   "source": [
    "# Merge Sort"
   ]
  },
  {
   "cell_type": "code",
   "execution_count": null,
   "id": "138363b7",
   "metadata": {},
   "outputs": [],
   "source": [
    "def dividing(arr):\n",
    "    if len(arr) <= 1:\n",
    "        return arr\n",
    "    \n",
    "    mid = len(arr) // 2\n",
    "    \n",
    "    left_half = arr[:mid]\n",
    "    right_half = arr[mid:]\n",
    "    \n",
    "    left_half1 = dividing(left_half)\n",
    "    right_half2 = dividing(right_half)\n",
    "    \n",
    "    return merging(left_half1,right_half2)\n",
    "\n",
    "def merging(left,right):\n",
    "    merged = []\n",
    "    left_index,right_index = 0,0\n",
    "    \n",
    "    while left_index < len(left) and right_index < len(right):\n",
    "        if left[left_index] < right[right_index]:\n",
    "            merged.append(left[left_index])\n",
    "            left_index += 1\n",
    "            \n",
    "        else:\n",
    "            merged.append(right[right_index])\n",
    "            right_index += 1\n",
    "            \n",
    "    merged.extend(left[left_index:])\n",
    "    merged.extend(right[right_index:])\n",
    "    return merged\n",
    "\n",
    "my_li = [3,1,9,7,2,8]\n",
    "result = dividing(my_li)\n",
    "print(result)"
   ]
  },
  {
   "cell_type": "markdown",
   "id": "c6db6eff",
   "metadata": {},
   "source": [
    "# Quick Sort"
   ]
  },
  {
   "cell_type": "code",
   "execution_count": 7,
   "id": "c10f8fc0",
   "metadata": {},
   "outputs": [
    {
     "name": "stdout",
     "output_type": "stream",
     "text": [
      "Sorted Array: [1, 1, 2, 3, 6, 8, 10]\n"
     ]
    }
   ],
   "source": [
    "def quicksort(a, low, high):\n",
    "    if low < high:\n",
    "        pivot_index = partition(a, low, high)\n",
    "        quicksort(a, low, pivot_index - 1)\n",
    "        quicksort(a, pivot_index + 1, high)\n",
    "\n",
    "def partition(a, low, high):\n",
    "    key = a[low]\n",
    "    i = low\n",
    "    j = high + 1\n",
    "    \n",
    "    while True:\n",
    "        i += 1\n",
    "        while i <= high and a[i] < key:\n",
    "            i += 1\n",
    "        \n",
    "        j -= 1\n",
    "        while a[j] > key:\n",
    "            j -= 1\n",
    "        \n",
    "        if i < j:\n",
    "            a[i], a[j] = a[j], a[i]\n",
    "        else:\n",
    "            break\n",
    "    \n",
    "    a[low], a[j] = a[j], a[low]\n",
    "    return j\n",
    "\n",
    "# Example usage\n",
    "a = [3, 6, 8, 10, 1, 2, 1]\n",
    "quicksort(a, 0, len(a) - 1)\n",
    "print(\"Sorted Array:\", a)\n"
   ]
  },
  {
   "cell_type": "code",
   "execution_count": 8,
   "id": "f77acedc",
   "metadata": {},
   "outputs": [
    {
     "name": "stdout",
     "output_type": "stream",
     "text": [
      "6\n"
     ]
    }
   ],
   "source": [
    "a = [3, 6, 8, 10, 1, 2, 1]\n",
    "print(len(a)-1)"
   ]
  }
 ],
 "metadata": {
  "kernelspec": {
   "display_name": "Python 3 (ipykernel)",
   "language": "python",
   "name": "python3"
  },
  "language_info": {
   "codemirror_mode": {
    "name": "ipython",
    "version": 3
   },
   "file_extension": ".py",
   "mimetype": "text/x-python",
   "name": "python",
   "nbconvert_exporter": "python",
   "pygments_lexer": "ipython3",
   "version": "3.11.4"
  }
 },
 "nbformat": 4,
 "nbformat_minor": 5
}
