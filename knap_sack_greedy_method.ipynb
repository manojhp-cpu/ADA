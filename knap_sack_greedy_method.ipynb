{
 "cells": [
  {
   "cell_type": "markdown",
   "id": "cbf35f9f-22db-4c6c-b092-4450312f5bac",
   "metadata": {},
   "source": [
    "# Kanp_sack_greedy_Method"
   ]
  },
  {
   "cell_type": "code",
   "execution_count": 10,
   "id": "e10215b3-1dc4-4f8f-a1c0-ecb8c91fc843",
   "metadata": {},
   "outputs": [
    {
     "name": "stdout",
     "output_type": "stream",
     "text": [
      "Maximum Value:51.0\n",
      "Selected Items:[(8, 1), (5, 1), (10, 3), (15, 5), (9, 3), (4, 2), (0.0, 0)]\n"
     ]
    }
   ],
   "source": [
    "class fraction_knap_sack:\n",
    "    def __init__(self,items,capacity):\n",
    "        self.items = items\n",
    "        self.capacity = capacity\n",
    "\n",
    "    def greedy_method(self):\n",
    "        ratios = [(item[0] / item[1],item) for item in self.items]\n",
    "        ratios.sort(reverse=True)\n",
    "\n",
    "\n",
    "        max_value = 0.0\n",
    "        ks = []\n",
    "        \n",
    "        for ratio,(value,weight) in ratios:\n",
    "            if self.capacity >= weight:\n",
    "                ks.append((value,weight))\n",
    "                max_value += value\n",
    "                self.capacity -= weight\n",
    "\n",
    "            else:\n",
    "                fraction = self.capacity / weight \n",
    "                ks.append((fraction * value,self.capacity))\n",
    "                max_value += fraction * value\n",
    "                break\n",
    "        return max_value,ks\n",
    "\n",
    "if __name__ == '__main__':\n",
    "    items = [(5,1),(10,3),(15,5),(7,4),(8,1),(9,3),(4,2)]\n",
    "    capa = 15\n",
    "    ks = fraction_knap_sack(items,capa)\n",
    "    max_value, selected = ks.greedy_method()\n",
    "    print(f'Maximum Value:{max_value}')\n",
    "    print(f'Selected Items:{selected}')"
   ]
  }
 ],
 "metadata": {
  "kernelspec": {
   "display_name": "Python 3 (ipykernel)",
   "language": "python",
   "name": "python3"
  },
  "language_info": {
   "codemirror_mode": {
    "name": "ipython",
    "version": 3
   },
   "file_extension": ".py",
   "mimetype": "text/x-python",
   "name": "python",
   "nbconvert_exporter": "python",
   "pygments_lexer": "ipython3",
   "version": "3.11.4"
  }
 },
 "nbformat": 4,
 "nbformat_minor": 5
}
