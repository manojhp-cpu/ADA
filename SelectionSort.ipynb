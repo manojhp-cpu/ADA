{
 "cells": [
  {
   "cell_type": "code",
   "execution_count": null,
   "id": "c465091b-c751-4fee-aee1-07c78d398f2f",
   "metadata": {},
   "outputs": [],
   "source": [
    "class Selection_sort:\n",
    "    def __init__(self,arr):\n",
    "        self.arr = arr\n",
    "\n",
    "    def sort(self):\n",
    "        for i in range(len(self.arr)):\n",
    "            min_index = i\n",
    "            for j in range(i + 1,len(self.arr)):\n",
    "                if self.arr[j] < self.arr[min_index]:\n",
    "                    min_index = j\n",
    "            self.arr[i],self.arr[min_index] = self.arr[min_index],self.arr[i]\n",
    "\n",
    "\n",
    "if __name__ == '__main__':\n",
    "    "
   ]
  }
 ],
 "metadata": {
  "kernelspec": {
   "display_name": "Python 3 (ipykernel)",
   "language": "python",
   "name": "python3"
  },
  "language_info": {
   "codemirror_mode": {
    "name": "ipython",
    "version": 3
   },
   "file_extension": ".py",
   "mimetype": "text/x-python",
   "name": "python",
   "nbconvert_exporter": "python",
   "pygments_lexer": "ipython3",
   "version": "3.11.5"
  }
 },
 "nbformat": 4,
 "nbformat_minor": 5
}
