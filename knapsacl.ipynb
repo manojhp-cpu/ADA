{
 "cells": [
  {
   "cell_type": "code",
   "execution_count": 10,
   "id": "9aed3848-bf67-44f6-8bbc-1caca9916e30",
   "metadata": {},
   "outputs": [],
   "source": [
    "import numpy as np"
   ]
  },
  {
   "cell_type": "code",
   "execution_count": 42,
   "id": "6699237d-77a3-46b0-b27b-c402b74be6eb",
   "metadata": {},
   "outputs": [
    {
     "name": "stdout",
     "output_type": "stream",
     "text": [
      "[[0 0 0 0 0 0 0 0 0]\n",
      " [0 0 0 2 2 2 2 2 2]\n",
      " [0 0 0 0 0 0 0 0 0]\n",
      " [0 0 0 0 0 0 0 0 0]\n",
      " [0 0 0 0 0 0 0 0 0]]\n",
      "[[0 0 0 0 0 0 0 0 0]\n",
      " [0 0 0 2 2 2 2 2 2]\n",
      " [0 0 0 2 3 3 3 5 5]\n",
      " [0 0 0 0 0 0 0 0 0]\n",
      " [0 0 0 0 0 0 0 0 0]]\n",
      "[[0 0 0 0 0 0 0 0 0]\n",
      " [0 0 0 2 2 2 2 2 2]\n",
      " [0 0 0 2 3 3 3 5 5]\n",
      " [0 0 0 2 3 3 3 5 5]\n",
      " [0 0 0 0 0 0 0 0 0]]\n",
      "[[0 0 0 0 0 0 0 0 0]\n",
      " [0 0 0 2 2 2 2 2 2]\n",
      " [0 0 0 2 3 3 3 5 5]\n",
      " [0 0 0 2 3 3 3 5 5]\n",
      " [0 0 0 2 3 4 4 5 6]]\n",
      "6\n",
      "Selected items:[3, 0]\n"
     ]
    }
   ],
   "source": [
    "class Knap_sack:\n",
    "    def __init__(self,weights,values,capacity):\n",
    "        self.weights = weights\n",
    "        self.values = values\n",
    "        self.capacity = capacity\n",
    "        self.no_of_items = len(self.weights)\n",
    "\n",
    "    def dynamic_programming(self):\n",
    "        dp = np.zeros((self.no_of_items + 1, self.capacity + 1), dtype = int)\n",
    "\n",
    "        for i in range(1, self.no_of_items + 1):\n",
    "            for w in range(1, self.capacity + 1):\n",
    "\n",
    "                if self.weights[i - 1] > w:\n",
    "                    dp[i][w] = dp[i - 1][w]\n",
    "\n",
    "                else:\n",
    "                    dp[i][w] = max(dp[i -1][w],dp[i - 1][w - self.weights[i -1]] + self.values[i - 1])\n",
    "            print(dp)\n",
    "        max_value = dp[self.no_of_items][self.capacity]\n",
    "        print(max_value)\n",
    "\n",
    "        selected_items1 = []\n",
    "\n",
    "        w, i = self.capacity,self.no_of_items\n",
    "        while i > 0 and w > 0:\n",
    "            if dp[i][w] != dp[i - 1][w]:\n",
    "                selected_items1.append(i - 1)\n",
    "                w -= self.weights[i - 1]\n",
    "            i -= 1\n",
    "        print(f'Selected items:{selected_items1}')\n",
    "\n",
    "\n",
    "if __name__ == '__main__':\n",
    "    weights = np.array([3,4,6,5])\n",
    "    values = np.array([2,3,1,4])\n",
    "    capacity = 8\n",
    "    k = Knap_sack(weights,values,capacity)\n",
    "    k.dynamic_programming()"
   ]
  }
 ],
 "metadata": {
  "kernelspec": {
   "display_name": "Python 3 (ipykernel)",
   "language": "python",
   "name": "python3"
  },
  "language_info": {
   "codemirror_mode": {
    "name": "ipython",
    "version": 3
   },
   "file_extension": ".py",
   "mimetype": "text/x-python",
   "name": "python",
   "nbconvert_exporter": "python",
   "pygments_lexer": "ipython3",
   "version": "3.11.4"
  }
 },
 "nbformat": 4,
 "nbformat_minor": 5
}
