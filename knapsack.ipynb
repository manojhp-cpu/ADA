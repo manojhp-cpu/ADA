{
 "cells": [
  {
   "cell_type": "code",
   "execution_count": 10,
   "id": "9aed3848-bf67-44f6-8bbc-1caca9916e30",
   "metadata": {},
   "outputs": [],
   "source": [
    "import numpy as np"
   ]
  },
  {
   "cell_type": "code",
   "execution_count": 41,
   "id": "6699237d-77a3-46b0-b27b-c402b74be6eb",
   "metadata": {},
   "outputs": [
    {
     "ename": "NameError",
     "evalue": "name 'self' is not defined",
     "output_type": "error",
     "traceback": [
      "\u001b[1;31m---------------------------------------------------------------------------\u001b[0m",
      "\u001b[1;31mNameError\u001b[0m                                 Traceback (most recent call last)",
      "Cell \u001b[1;32mIn[41], line 1\u001b[0m\n\u001b[1;32m----> 1\u001b[0m \u001b[38;5;28;43;01mclass\u001b[39;49;00m\u001b[43m \u001b[49m\u001b[38;5;21;43;01mKnap_sack\u001b[39;49;00m\u001b[43m:\u001b[49m\n\u001b[0;32m      2\u001b[0m \u001b[43m    \u001b[49m\u001b[43mdp\u001b[49m\u001b[43m \u001b[49m\u001b[38;5;241;43m=\u001b[39;49m\u001b[43m \u001b[49m\u001b[43mnp\u001b[49m\u001b[38;5;241;43m.\u001b[39;49m\u001b[43mzeros\u001b[49m\u001b[43m(\u001b[49m\u001b[43m(\u001b[49m\u001b[38;5;28;43mself\u001b[39;49m\u001b[38;5;241;43m.\u001b[39;49m\u001b[43mno_of_items\u001b[49m\u001b[43m \u001b[49m\u001b[38;5;241;43m+\u001b[39;49m\u001b[43m \u001b[49m\u001b[38;5;241;43m1\u001b[39;49m\u001b[43m,\u001b[49m\u001b[43m \u001b[49m\u001b[38;5;28;43mself\u001b[39;49m\u001b[38;5;241;43m.\u001b[39;49m\u001b[43mcapacity\u001b[49m\u001b[43m \u001b[49m\u001b[38;5;241;43m+\u001b[39;49m\u001b[43m \u001b[49m\u001b[38;5;241;43m1\u001b[39;49m\u001b[43m)\u001b[49m\u001b[43m,\u001b[49m\u001b[43m \u001b[49m\u001b[43mdtype\u001b[49m\u001b[43m \u001b[49m\u001b[38;5;241;43m=\u001b[39;49m\u001b[43m \u001b[49m\u001b[38;5;28;43mint\u001b[39;49m\u001b[43m)\u001b[49m\n\u001b[0;32m      3\u001b[0m \u001b[43m    \u001b[49m\u001b[38;5;28;43;01mdef\u001b[39;49;00m\u001b[43m \u001b[49m\u001b[38;5;21;43m__init__\u001b[39;49m\u001b[43m(\u001b[49m\u001b[38;5;28;43mself\u001b[39;49m\u001b[43m,\u001b[49m\u001b[43mweights\u001b[49m\u001b[43m,\u001b[49m\u001b[43mvalues\u001b[49m\u001b[43m,\u001b[49m\u001b[43mcapacity\u001b[49m\u001b[43m)\u001b[49m\u001b[43m:\u001b[49m\n",
      "Cell \u001b[1;32mIn[41], line 2\u001b[0m, in \u001b[0;36mKnap_sack\u001b[1;34m()\u001b[0m\n\u001b[0;32m      1\u001b[0m \u001b[38;5;28;01mclass\u001b[39;00m \u001b[38;5;21;01mKnap_sack\u001b[39;00m:\n\u001b[1;32m----> 2\u001b[0m     dp \u001b[38;5;241m=\u001b[39m np\u001b[38;5;241m.\u001b[39mzeros((\u001b[38;5;28;43mself\u001b[39;49m\u001b[38;5;241m.\u001b[39mno_of_items \u001b[38;5;241m+\u001b[39m \u001b[38;5;241m1\u001b[39m, \u001b[38;5;28mself\u001b[39m\u001b[38;5;241m.\u001b[39mcapacity \u001b[38;5;241m+\u001b[39m \u001b[38;5;241m1\u001b[39m), dtype \u001b[38;5;241m=\u001b[39m \u001b[38;5;28mint\u001b[39m)\n\u001b[0;32m      3\u001b[0m     \u001b[38;5;28;01mdef\u001b[39;00m \u001b[38;5;21m__init__\u001b[39m(\u001b[38;5;28mself\u001b[39m,weights,values,capacity):\n\u001b[0;32m      4\u001b[0m         \u001b[38;5;28mself\u001b[39m\u001b[38;5;241m.\u001b[39mweights \u001b[38;5;241m=\u001b[39m weights\n",
      "\u001b[1;31mNameError\u001b[0m: name 'self' is not defined"
     ]
    }
   ],
   "source": [
    "class Knap_sack:\n",
    "    def __init__(self,weights,values,capacity):\n",
    "        self.weights = weights\n",
    "        self.values = values\n",
    "        self.capacity = capacity\n",
    "        self.no_of_items = len(self.weights)\n",
    "\n",
    "    def dynamic_programming(self):\n",
    "        \n",
    "\n",
    "        for i in range(1, self.no_of_items + 1):\n",
    "            for w in range(1, self.capacity + 1):\n",
    "\n",
    "                if self.weights[i - 1] > w:\n",
    "                    dp[i][w] = dp[i - 1][w]\n",
    "\n",
    "                else:\n",
    "                    dp[i][w] = max(dp[i -1][w],dp[i - 1][w - self.weights[i -1]] + self.values[i - 1])\n",
    "            print(dp)\n",
    "            \n",
    "    def maximum_value(self):\n",
    "        max_value = dp[self.no_of_items][self.capacity]\n",
    "        print(max_value)\n",
    "\n",
    "    def selected_items(self):\n",
    "        selected_items1 = []\n",
    "        w, i = self.capacity,self.no_of_items\n",
    "        while i > 0 and w > 0:\n",
    "            if dp[i][w] != dp[i - 1][w]:\n",
    "                selected_items1.append(i - 1)\n",
    "                w -= self.weights[i - 1]\n",
    "            i -= 1\n",
    "        print(f'Selected items:{selected_items1}')\n",
    "       \n",
    "\n",
    "       \n",
    "\n",
    "\n",
    "if __name__ == '__main__':\n",
    "    weights = np.array([3,4,6,5])\n",
    "    values = np.array([2,3,1,4])\n",
    "    capacity = 8\n",
    "    k = Knap_sack(weights,values,capacity)\n",
    "    k.dynamic_programming()\n",
    "    k.maximum_value()\n",
    "    k.selected_items()"
   ]
  }
 ],
 "metadata": {
  "kernelspec": {
   "display_name": "Python 3 (ipykernel)",
   "language": "python",
   "name": "python3"
  },
  "language_info": {
   "codemirror_mode": {
    "name": "ipython",
    "version": 3
   },
   "file_extension": ".py",
   "mimetype": "text/x-python",
   "name": "python",
   "nbconvert_exporter": "python",
   "pygments_lexer": "ipython3",
   "version": "3.11.4"
  }
 },
 "nbformat": 4,
 "nbformat_minor": 5
}
